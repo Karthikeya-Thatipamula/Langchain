{
 "cells": [
  {
   "cell_type": "code",
   "execution_count": null,
   "id": "f57ac2dd",
   "metadata": {},
   "outputs": [],
   "source": [
    "## Retirever And Chain With Langchain\n"
   ]
  },
  {
   "cell_type": "code",
   "execution_count": null,
   "id": "6118bbe7",
   "metadata": {},
   "outputs": [],
   "source": []
  }
 ],
 "metadata": {
  "kernelspec": {
   "display_name": "Langchain",
   "language": "python",
   "name": "python3"
  },
  "language_info": {
   "name": "python",
   "version": "3.12.1"
  }
 },
 "nbformat": 4,
 "nbformat_minor": 5
}
